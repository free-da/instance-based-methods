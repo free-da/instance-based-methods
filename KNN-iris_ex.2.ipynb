{
 "cells": [
  {
   "cell_type": "markdown",
   "id": "1ae08cc7",
   "metadata": {},
   "source": [
    "In the logistic regression example, I gave you a new iris data:\n",
    "\n",
    "4.8,2.5,5.3,2.4\n",
    "\n",
    "Please classify this flower using KNN (with all libs available as you like)\n",
    "\n",
    "Here is a good scikit example you can use:\n",
    "\n",
    "    Reference [1]\n",
    "    Packed as a notebook [2]"
   ]
  },
  {
   "cell_type": "code",
   "execution_count": 1,
   "id": "69cc0470",
   "metadata": {},
   "outputs": [
    {
     "data": {
      "text/plain": [
       "array([[5.1, 3.5, 1.4, 0.2],\n",
       "       [4.9, 3. , 1.4, 0.2],\n",
       "       [4.7, 3.2, 1.3, 0.2],\n",
       "       [4.6, 3.1, 1.5, 0.2],\n",
       "       [5. , 3.6, 1.4, 0.2],\n",
       "       [5.4, 3.9, 1.7, 0.4],\n",
       "       [4.6, 3.4, 1.4, 0.3],\n",
       "       [5. , 3.4, 1.5, 0.2],\n",
       "       [4.4, 2.9, 1.4, 0.2],\n",
       "       [4.9, 3.1, 1.5, 0.1]])"
      ]
     },
     "execution_count": 1,
     "metadata": {},
     "output_type": "execute_result"
    }
   ],
   "source": [
    "import numpy as np\n",
    "from sklearn import datasets\n",
    "iris = datasets.load_iris()\n",
    "iris_data = iris.data\n",
    "iris_labels = iris.target\n",
    "iris_data[0:10]"
   ]
  },
  {
   "cell_type": "markdown",
   "id": "0648d177",
   "metadata": {},
   "source": [
    "***Trying out different ways to normalize data***"
   ]
  },
  {
   "cell_type": "code",
   "execution_count": 2,
   "id": "0c821973",
   "metadata": {},
   "outputs": [
    {
     "data": {
      "text/plain": [
       "array([[0.05221703, 0.03583522, 0.01433409, 0.00204773],\n",
       "       [0.0501693 , 0.0307159 , 0.01433409, 0.00204773],\n",
       "       [0.04812157, 0.03276363, 0.01331022, 0.00204773],\n",
       "       [0.04709771, 0.03173976, 0.01535795, 0.00204773],\n",
       "       [0.05119316, 0.03685908, 0.01433409, 0.00204773],\n",
       "       [0.05528862, 0.03993067, 0.01740568, 0.00409545],\n",
       "       [0.04709771, 0.03481135, 0.01433409, 0.00307159],\n",
       "       [0.05119316, 0.03481135, 0.01535795, 0.00204773],\n",
       "       [0.04504998, 0.02969204, 0.01433409, 0.00204773],\n",
       "       [0.0501693 , 0.03173976, 0.01535795, 0.00102386]])"
      ]
     },
     "execution_count": 2,
     "metadata": {},
     "output_type": "execute_result"
    }
   ],
   "source": [
    "norm = np.linalg.norm(iris_data)\n",
    "normed_iris_data1 = iris_data/norm\n",
    "normed_iris_data1[0:10]"
   ]
  },
  {
   "cell_type": "code",
   "execution_count": 3,
   "id": "46f6a940",
   "metadata": {},
   "outputs": [
    {
     "data": {
      "text/plain": [
       "array([[-0.90068117,  1.01900435, -1.34022653, -1.3154443 ],\n",
       "       [-1.14301691, -0.13197948, -1.34022653, -1.3154443 ],\n",
       "       [-1.38535265,  0.32841405, -1.39706395, -1.3154443 ],\n",
       "       [-1.50652052,  0.09821729, -1.2833891 , -1.3154443 ],\n",
       "       [-1.02184904,  1.24920112, -1.34022653, -1.3154443 ],\n",
       "       [-0.53717756,  1.93979142, -1.16971425, -1.05217993],\n",
       "       [-1.50652052,  0.78880759, -1.34022653, -1.18381211],\n",
       "       [-1.02184904,  0.78880759, -1.2833891 , -1.3154443 ],\n",
       "       [-1.74885626, -0.36217625, -1.34022653, -1.3154443 ],\n",
       "       [-1.14301691,  0.09821729, -1.2833891 , -1.44707648]])"
      ]
     },
     "execution_count": 3,
     "metadata": {},
     "output_type": "execute_result"
    }
   ],
   "source": [
    "from mlxtend.preprocessing import standardize\n",
    "normed_iris_data3 = standardize(iris_data)\n",
    "normed_iris_data3[0:10]"
   ]
  },
  {
   "cell_type": "code",
   "execution_count": 4,
   "id": "90a9df8f",
   "metadata": {},
   "outputs": [
    {
     "data": {
      "text/plain": [
       "array([[ 0.80003628],\n",
       "       [-0.95242415],\n",
       "       [ 1.18100594],\n",
       "       [-1.02861808]])"
      ]
     },
     "execution_count": 4,
     "metadata": {},
     "output_type": "execute_result"
    }
   ],
   "source": [
    "test_data = np.array([4.8,2.5,5.3,2.4])\n",
    "normed_test_data = standardize(test_data)\n",
    "normed_test_data"
   ]
  },
  {
   "cell_type": "code",
   "execution_count": 5,
   "id": "bbc750ba",
   "metadata": {},
   "outputs": [
    {
     "data": {
      "text/plain": [
       "array([0., 0., 0., 0., 0., 0., 0., 0., 0., 0., 0., 0., 0., 0., 0., 0., 0.,\n",
       "       0., 0., 0., 0., 0., 0., 0., 0., 0., 0., 0., 0., 0., 0., 0., 0., 0.,\n",
       "       0., 0., 0., 0., 0., 0., 0., 0., 0., 0., 0., 0., 0., 0., 0., 0., 0.,\n",
       "       0., 0., 0., 0., 0., 0., 0., 0., 0., 0., 0., 0., 0., 0., 0., 0., 0.,\n",
       "       0., 0., 0., 0., 0., 0., 0., 0., 0., 0., 0., 0., 0., 0., 0., 0., 0.,\n",
       "       0., 0., 0., 0., 0., 0., 0., 0., 0., 0., 0., 0., 0., 0., 0., 0., 0.,\n",
       "       0., 0., 0., 0., 0., 0., 0., 0., 0., 0., 0., 0., 0., 0., 0., 0., 0.,\n",
       "       0., 0., 0., 0., 0., 0., 0., 0., 0., 0., 0., 0., 0., 0., 0., 0., 0.,\n",
       "       0., 0., 0., 0., 0., 0., 0., 0., 0., 0., 0., 0., 0., 0.])"
      ]
     },
     "execution_count": 5,
     "metadata": {},
     "output_type": "execute_result"
    }
   ],
   "source": [
    "distances = np.zeros([len(normed_iris_data3)])\n",
    "distances"
   ]
  },
  {
   "cell_type": "code",
   "execution_count": 6,
   "id": "a04f838a",
   "metadata": {},
   "outputs": [
    {
     "data": {
      "text/plain": [
       "array([6.12411537, 5.94996036, 6.23193041, 6.21505655, 6.36593425,\n",
       "       6.48896432, 6.35277569, 6.01460693, 6.5471431 , 6.01905382,\n",
       "       6.27842627, 6.14986285, 6.16630172, 6.89659943, 7.08684091,\n",
       "       8.08386651, 6.66639956, 6.01571764, 6.23619084, 6.56732492,\n",
       "       5.66017747, 6.24628365, 6.93333872, 5.41808534, 6.02195764,\n",
       "       5.76070022, 5.75426954, 6.00782561, 5.918263  , 6.08666755,\n",
       "       5.94731284, 5.53712825, 7.51256193, 7.64684847, 5.89698756,\n",
       "       5.99875126, 5.96443302, 6.55964285, 6.55990799, 5.93664055,\n",
       "       6.14353128, 7.22270348, 6.58742299, 5.73039688, 6.31070273,\n",
       "       5.93740684, 6.62382462, 6.29414354, 6.32440292, 5.96081281,\n",
       "       5.07090318, 4.42597065, 4.99073736, 5.38473213, 4.63450642,\n",
       "       4.27854488, 4.5532597 , 5.56156526, 4.56874191, 4.630571  ,\n",
       "       6.65090203, 4.11916611, 5.66346715, 4.28220708, 4.12006153,\n",
       "       4.60000903, 4.21371415, 4.37539023, 5.80212969, 4.79855699,\n",
       "       4.51153438, 4.23514021, 5.1108195 , 4.35168397, 4.33524279,\n",
       "       4.49930159, 4.945751  , 4.91020505, 4.2434436 , 4.57332716,\n",
       "       5.09131972, 5.11181027, 4.32938456, 4.72127691, 4.30835225,\n",
       "       4.52295011, 4.70336049, 5.47583014, 4.0790657 , 4.8396433 ,\n",
       "       4.65382919, 4.20139945, 4.52989806, 5.7341362 , 4.40191948,\n",
       "       4.05496939, 4.1192258 , 4.20970196, 5.16136831, 4.21255855,\n",
       "       6.05749926, 4.94441933, 6.07412029, 4.96330701, 5.5614967 ,\n",
       "       7.08881498, 5.50079032, 6.31159802, 5.8976769 , 7.20164238,\n",
       "       5.07287854, 5.19628728, 5.56668058, 5.39824444, 5.45282626,\n",
       "       5.45162564, 5.00239209, 8.12770894, 7.86325677, 5.86034488,\n",
       "       6.02148721, 4.88668632, 7.29900537, 4.91091361, 5.66159202,\n",
       "       6.01965692, 4.69620618, 4.54339407, 5.40648568, 5.77748693,\n",
       "       6.49034254, 8.12369122, 5.52701239, 4.64565208, 5.04812935,\n",
       "       7.19708859, 5.83861473, 4.92750335, 4.48525106, 5.6304465 ,\n",
       "       5.89272802, 5.77228951, 4.94441933, 6.01094106, 6.1770896 ,\n",
       "       5.60917908, 5.4041241 , 5.0726813 , 5.57820444, 4.57344215])"
      ]
     },
     "execution_count": 6,
     "metadata": {},
     "output_type": "execute_result"
    }
   ],
   "source": [
    "counter = 0\n",
    "for row in normed_iris_data3:\n",
    "    distances[counter] = np.linalg.norm(row - normed_test_data)\n",
    "    counter += 1\n",
    "    \n",
    "distances "
   ]
  },
  {
   "cell_type": "code",
   "execution_count": 7,
   "id": "fc26524f",
   "metadata": {},
   "outputs": [
    {
     "data": {
      "text/plain": [
       "array([ 95,  88,  61,  96,  64,  91,  97,  99,  66,  71,  78,  55,  63,\n",
       "        84,  82,  74,  73,  67,  94,  51, 138,  75,  70,  85,  92, 127,\n",
       "        56,  58,  79, 149,  65,  59,  54, 133,  90, 126,  86,  83,  69,\n",
       "        89, 121,  77, 123, 137, 101, 142,  76, 103,  52, 116, 134,  50,\n",
       "       147, 110,  80,  72,  81,  98, 111,  53, 113, 146, 128,  23, 115,\n",
       "       114,  87, 106, 132,  31, 104,  57, 112, 148, 145, 139,  20, 124,\n",
       "        62,  43,  93,  26,  25, 141, 129,  68, 136, 119, 140,  34, 108,\n",
       "        28,  39,  45,  30,   1,  49,  36,  35,  27, 143,   7,  17,   9,\n",
       "       125, 120,  24, 100, 102,  29,   0,  40,  11,  12, 144,   3,   2,\n",
       "        18,  21,  10,  47,  44, 107,  48,   6,   4,   5, 130,   8,  37,\n",
       "        38,  19,  42,  46,  60,  16,  13,  22,  14, 105, 135, 109,  41,\n",
       "       122,  32,  33, 118,  15, 131, 117])"
      ]
     },
     "execution_count": 7,
     "metadata": {},
     "output_type": "execute_result"
    }
   ],
   "source": [
    "sorted_distance_indices = np.argsort(distances)\n",
    "sorted_distance_indices"
   ]
  },
  {
   "cell_type": "code",
   "execution_count": 9,
   "id": "5d5bd203",
   "metadata": {},
   "outputs": [
    {
     "data": {
      "text/plain": [
       "12"
      ]
     },
     "execution_count": 9,
     "metadata": {},
     "output_type": "execute_result"
    }
   ],
   "source": [
    "k = int(np.sqrt(len(normed_iris_data3)))\n",
    "k"
   ]
  },
  {
   "cell_type": "code",
   "execution_count": 16,
   "id": "358671fa",
   "metadata": {},
   "outputs": [
    {
     "data": {
      "text/plain": [
       "array([1, 1, 1, 1, 1, 1, 1, 1, 1, 1, 1, 1])"
      ]
     },
     "execution_count": 16,
     "metadata": {},
     "output_type": "execute_result"
    }
   ],
   "source": [
    "k_nearest_iris_names = iris_labels[sorted_distance_indices[0:k]]\n",
    "k_nearest_iris_names"
   ]
  },
  {
   "cell_type": "code",
   "execution_count": 15,
   "id": "37f99614",
   "metadata": {},
   "outputs": [
    {
     "data": {
      "text/plain": [
       "'versicolor'"
      ]
     },
     "execution_count": 15,
     "metadata": {},
     "output_type": "execute_result"
    }
   ],
   "source": [
    "iris['target_names'][1]"
   ]
  },
  {
   "cell_type": "code",
   "execution_count": 18,
   "id": "81e7aa6f",
   "metadata": {},
   "outputs": [
    {
     "name": "stdout",
     "output_type": "stream",
     "text": [
      "iris name is versicolor\n"
     ]
    }
   ],
   "source": [
    "if (np.all(k_nearest_iris_names == k_nearest_iris_names[0])):\n",
    "    print('iris name is', iris['target_names'][k_nearest_iris_names[0]])\n",
    "else:\n",
    "    print('iris name is unclear.')"
   ]
  },
  {
   "cell_type": "code",
   "execution_count": null,
   "id": "e846c9a5",
   "metadata": {},
   "outputs": [],
   "source": []
  }
 ],
 "metadata": {
  "kernelspec": {
   "display_name": "Python 3 (ipykernel)",
   "language": "python",
   "name": "python3"
  },
  "language_info": {
   "codemirror_mode": {
    "name": "ipython",
    "version": 3
   },
   "file_extension": ".py",
   "mimetype": "text/x-python",
   "name": "python",
   "nbconvert_exporter": "python",
   "pygments_lexer": "ipython3",
   "version": "3.9.12"
  }
 },
 "nbformat": 4,
 "nbformat_minor": 5
}
