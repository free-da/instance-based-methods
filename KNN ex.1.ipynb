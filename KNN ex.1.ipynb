{
 "cells": [
  {
   "cell_type": "markdown",
   "id": "eca9ca49",
   "metadata": {},
   "source": [
    "Exercise 1\n",
    "\n",
    "Implement KNN by hand for just 2 dimensions with normalization.\n",
    "\n",
    "This is easy because:\n",
    "\n",
    "    funct: You normalize your data in another table\n",
    "    funct: You code a simple euclid distance function\n",
    "    funct: You take a point and calculate the distance to all points\n",
    "    funct: You take the list from above and sort it\n",
    "    funct: You aggregate by target variable\n",
    "    funct: you take the max to determine the targe class\n",
    "\n",
    "you are finished!\n",
    "\n",
    "Note: This is the only chance to implement a machine learning algorithm by hand and hence learn something from the ground up!\n",
    "\n",
    "[For SoSe 2022: Using no libs = full points; Using python helper libs -2] "
   ]
  },
  {
   "cell_type": "code",
   "execution_count": 1,
   "id": "c953b625",
   "metadata": {},
   "outputs": [
    {
     "data": {
      "text/html": [
       "<div>\n",
       "<style scoped>\n",
       "    .dataframe tbody tr th:only-of-type {\n",
       "        vertical-align: middle;\n",
       "    }\n",
       "\n",
       "    .dataframe tbody tr th {\n",
       "        vertical-align: top;\n",
       "    }\n",
       "\n",
       "    .dataframe thead th {\n",
       "        text-align: right;\n",
       "    }\n",
       "</style>\n",
       "<table border=\"1\" class=\"dataframe\">\n",
       "  <thead>\n",
       "    <tr style=\"text-align: right;\">\n",
       "      <th></th>\n",
       "      <th>Movie Title</th>\n",
       "      <th># of kicks</th>\n",
       "      <th># of kisses</th>\n",
       "      <th>type of movie</th>\n",
       "    </tr>\n",
       "  </thead>\n",
       "  <tbody>\n",
       "    <tr>\n",
       "      <th>0</th>\n",
       "      <td>California Man</td>\n",
       "      <td>3</td>\n",
       "      <td>104</td>\n",
       "      <td>Romance</td>\n",
       "    </tr>\n",
       "    <tr>\n",
       "      <th>1</th>\n",
       "      <td>He's not reall into dudes</td>\n",
       "      <td>2</td>\n",
       "      <td>100</td>\n",
       "      <td>Romance</td>\n",
       "    </tr>\n",
       "    <tr>\n",
       "      <th>2</th>\n",
       "      <td>Beautiful Woman</td>\n",
       "      <td>1</td>\n",
       "      <td>81</td>\n",
       "      <td>Romance</td>\n",
       "    </tr>\n",
       "    <tr>\n",
       "      <th>3</th>\n",
       "      <td>Kevin Longblade</td>\n",
       "      <td>101</td>\n",
       "      <td>10</td>\n",
       "      <td>Action</td>\n",
       "    </tr>\n",
       "    <tr>\n",
       "      <th>4</th>\n",
       "      <td>Robo Slayer 3000</td>\n",
       "      <td>99</td>\n",
       "      <td>5</td>\n",
       "      <td>Action</td>\n",
       "    </tr>\n",
       "    <tr>\n",
       "      <th>5</th>\n",
       "      <td>Amped</td>\n",
       "      <td>98</td>\n",
       "      <td>2</td>\n",
       "      <td>Action</td>\n",
       "    </tr>\n",
       "    <tr>\n",
       "      <th>6</th>\n",
       "      <td>?</td>\n",
       "      <td>18</td>\n",
       "      <td>90</td>\n",
       "      <td>?</td>\n",
       "    </tr>\n",
       "  </tbody>\n",
       "</table>\n",
       "</div>"
      ],
      "text/plain": [
       "                  Movie Title  # of kicks  # of kisses type of movie\n",
       "0             California Man            3          104      Romance \n",
       "1  He's not reall into dudes            2          100      Romance \n",
       "2            Beautiful Woman            1           81      Romance \n",
       "3            Kevin Longblade          101           10       Action \n",
       "4           Robo Slayer 3000           99            5       Action \n",
       "5                      Amped           98            2       Action \n",
       "6                          ?           18           90            ? "
      ]
     },
     "execution_count": 1,
     "metadata": {},
     "output_type": "execute_result"
    }
   ],
   "source": [
    "import pandas as pd\n",
    "import numpy as np\n",
    "\n",
    "df=pd.read_csv(\"/Users/friederikebuchner/Documents/Beuth/Data Science/IBM/KNN_ex_1_example_data.csv\")\n",
    "\n",
    "df"
   ]
  },
  {
   "cell_type": "markdown",
   "id": "5e7f20ae",
   "metadata": {},
   "source": [
    "***Normalize Data***"
   ]
  },
  {
   "cell_type": "code",
   "execution_count": 2,
   "id": "9980e453",
   "metadata": {},
   "outputs": [],
   "source": [
    "scaled_df = df.copy()\n",
    "cols_to_norm = ['# of kicks', '# of kisses']\n",
    "\n",
    "for column in cols_to_norm:\n",
    "    scaled_df[column]= df[column].apply(lambda x: (x - df[column].min()) / (df[column].max() - df[column].min()))"
   ]
  },
  {
   "cell_type": "markdown",
   "id": "597b2746",
   "metadata": {},
   "source": [
    "***Extract Test data into extra DataFrame***"
   ]
  },
  {
   "cell_type": "code",
   "execution_count": 3,
   "id": "7aa30294",
   "metadata": {},
   "outputs": [
    {
     "name": "stderr",
     "output_type": "stream",
     "text": [
      "/var/folders/jb/b4kcc8352qlcrywkmmp0fxtr0000gp/T/ipykernel_36965/2159849685.py:2: FutureWarning: The frame.append method is deprecated and will be removed from pandas in a future version. Use pandas.concat instead.\n",
      "  test_row = test_row.append(scaled_df.loc[scaled_df['Movie Title'] == '? '])\n",
      "/var/folders/jb/b4kcc8352qlcrywkmmp0fxtr0000gp/T/ipykernel_36965/2159849685.py:6: FutureWarning: The frame.append method is deprecated and will be removed from pandas in a future version. Use pandas.concat instead.\n",
      "  test_row = test_row.append({'Movie Title':'Testtesttest'}, ignore_index=True)\n"
     ]
    },
    {
     "data": {
      "text/html": [
       "<div>\n",
       "<style scoped>\n",
       "    .dataframe tbody tr th:only-of-type {\n",
       "        vertical-align: middle;\n",
       "    }\n",
       "\n",
       "    .dataframe tbody tr th {\n",
       "        vertical-align: top;\n",
       "    }\n",
       "\n",
       "    .dataframe thead th {\n",
       "        text-align: right;\n",
       "    }\n",
       "</style>\n",
       "<table border=\"1\" class=\"dataframe\">\n",
       "  <thead>\n",
       "    <tr style=\"text-align: right;\">\n",
       "      <th></th>\n",
       "      <th>Movie Title</th>\n",
       "      <th># of kicks</th>\n",
       "      <th># of kisses</th>\n",
       "      <th>type of movie</th>\n",
       "    </tr>\n",
       "  </thead>\n",
       "  <tbody>\n",
       "    <tr>\n",
       "      <th>0</th>\n",
       "      <td>?</td>\n",
       "      <td>0.17</td>\n",
       "      <td>0.862745</td>\n",
       "      <td>?</td>\n",
       "    </tr>\n",
       "    <tr>\n",
       "      <th>1</th>\n",
       "      <td>Testtesttest</td>\n",
       "      <td>NaN</td>\n",
       "      <td>NaN</td>\n",
       "      <td>NaN</td>\n",
       "    </tr>\n",
       "  </tbody>\n",
       "</table>\n",
       "</div>"
      ],
      "text/plain": [
       "    Movie Title  # of kicks  # of kisses type of movie\n",
       "0            ?         0.17     0.862745            ? \n",
       "1  Testtesttest         NaN          NaN           NaN"
      ]
     },
     "execution_count": 3,
     "metadata": {},
     "output_type": "execute_result"
    }
   ],
   "source": [
    "test_row = pd.DataFrame()\n",
    "test_row = test_row.append(scaled_df.loc[scaled_df['Movie Title'] == '? '])\n",
    "\n",
    "### append extra row because pandas doesn't let me select fields from single row-Dataframes correctly\n",
    "### which leads to calculation errors\n",
    "test_row = test_row.append({'Movie Title':'Testtesttest'}, ignore_index=True)\n",
    "test_row"
   ]
  },
  {
   "cell_type": "markdown",
   "id": "447ff2d4",
   "metadata": {},
   "source": [
    "***Remove Test Row from dataset***"
   ]
  },
  {
   "cell_type": "code",
   "execution_count": 4,
   "id": "78c94445",
   "metadata": {},
   "outputs": [
    {
     "data": {
      "text/html": [
       "<div>\n",
       "<style scoped>\n",
       "    .dataframe tbody tr th:only-of-type {\n",
       "        vertical-align: middle;\n",
       "    }\n",
       "\n",
       "    .dataframe tbody tr th {\n",
       "        vertical-align: top;\n",
       "    }\n",
       "\n",
       "    .dataframe thead th {\n",
       "        text-align: right;\n",
       "    }\n",
       "</style>\n",
       "<table border=\"1\" class=\"dataframe\">\n",
       "  <thead>\n",
       "    <tr style=\"text-align: right;\">\n",
       "      <th></th>\n",
       "      <th>Movie Title</th>\n",
       "      <th># of kicks</th>\n",
       "      <th># of kisses</th>\n",
       "      <th>type of movie</th>\n",
       "    </tr>\n",
       "  </thead>\n",
       "  <tbody>\n",
       "    <tr>\n",
       "      <th>0</th>\n",
       "      <td>California Man</td>\n",
       "      <td>0.02</td>\n",
       "      <td>1.000000</td>\n",
       "      <td>Romance</td>\n",
       "    </tr>\n",
       "    <tr>\n",
       "      <th>1</th>\n",
       "      <td>He's not reall into dudes</td>\n",
       "      <td>0.01</td>\n",
       "      <td>0.960784</td>\n",
       "      <td>Romance</td>\n",
       "    </tr>\n",
       "    <tr>\n",
       "      <th>2</th>\n",
       "      <td>Beautiful Woman</td>\n",
       "      <td>0.00</td>\n",
       "      <td>0.774510</td>\n",
       "      <td>Romance</td>\n",
       "    </tr>\n",
       "    <tr>\n",
       "      <th>3</th>\n",
       "      <td>Kevin Longblade</td>\n",
       "      <td>1.00</td>\n",
       "      <td>0.078431</td>\n",
       "      <td>Action</td>\n",
       "    </tr>\n",
       "    <tr>\n",
       "      <th>4</th>\n",
       "      <td>Robo Slayer 3000</td>\n",
       "      <td>0.98</td>\n",
       "      <td>0.029412</td>\n",
       "      <td>Action</td>\n",
       "    </tr>\n",
       "    <tr>\n",
       "      <th>5</th>\n",
       "      <td>Amped</td>\n",
       "      <td>0.97</td>\n",
       "      <td>0.000000</td>\n",
       "      <td>Action</td>\n",
       "    </tr>\n",
       "  </tbody>\n",
       "</table>\n",
       "</div>"
      ],
      "text/plain": [
       "                  Movie Title  # of kicks  # of kisses type of movie\n",
       "0             California Man         0.02     1.000000      Romance \n",
       "1  He's not reall into dudes         0.01     0.960784      Romance \n",
       "2            Beautiful Woman         0.00     0.774510      Romance \n",
       "3            Kevin Longblade         1.00     0.078431       Action \n",
       "4           Robo Slayer 3000         0.98     0.029412       Action \n",
       "5                      Amped         0.97     0.000000       Action "
      ]
     },
     "execution_count": 4,
     "metadata": {},
     "output_type": "execute_result"
    }
   ],
   "source": [
    "scaled_df = scaled_df.loc[scaled_df['Movie Title'] != '? ']\n",
    "scaled_df"
   ]
  },
  {
   "cell_type": "markdown",
   "id": "0281c110",
   "metadata": {},
   "source": [
    "***Find Point that is to be calculated against all the other points***"
   ]
  },
  {
   "cell_type": "code",
   "execution_count": 5,
   "id": "62237b7f",
   "metadata": {},
   "outputs": [
    {
     "data": {
      "text/plain": [
       "0    0.170000\n",
       "1    0.862745\n",
       "dtype: float64"
      ]
     },
     "execution_count": 5,
     "metadata": {},
     "output_type": "execute_result"
    }
   ],
   "source": [
    "pointB = pd.Series([test_row['# of kicks'][0], test_row['# of kisses'][0]])\n",
    "pointB"
   ]
  },
  {
   "cell_type": "markdown",
   "id": "adf70389",
   "metadata": {},
   "source": [
    "***Calculate distance from all Points to point in question***"
   ]
  },
  {
   "cell_type": "code",
   "execution_count": 6,
   "id": "13046edd",
   "metadata": {},
   "outputs": [
    {
     "name": "stderr",
     "output_type": "stream",
     "text": [
      "/var/folders/jb/b4kcc8352qlcrywkmmp0fxtr0000gp/T/ipykernel_36965/3092192148.py:7: FutureWarning: The frame.append method is deprecated and will be removed from pandas in a future version. Use pandas.concat instead.\n",
      "  distanceTable = distanceTable.append(new_row, ignore_index=True)\n",
      "/var/folders/jb/b4kcc8352qlcrywkmmp0fxtr0000gp/T/ipykernel_36965/3092192148.py:7: FutureWarning: The frame.append method is deprecated and will be removed from pandas in a future version. Use pandas.concat instead.\n",
      "  distanceTable = distanceTable.append(new_row, ignore_index=True)\n",
      "/var/folders/jb/b4kcc8352qlcrywkmmp0fxtr0000gp/T/ipykernel_36965/3092192148.py:7: FutureWarning: The frame.append method is deprecated and will be removed from pandas in a future version. Use pandas.concat instead.\n",
      "  distanceTable = distanceTable.append(new_row, ignore_index=True)\n",
      "/var/folders/jb/b4kcc8352qlcrywkmmp0fxtr0000gp/T/ipykernel_36965/3092192148.py:7: FutureWarning: The frame.append method is deprecated and will be removed from pandas in a future version. Use pandas.concat instead.\n",
      "  distanceTable = distanceTable.append(new_row, ignore_index=True)\n",
      "/var/folders/jb/b4kcc8352qlcrywkmmp0fxtr0000gp/T/ipykernel_36965/3092192148.py:7: FutureWarning: The frame.append method is deprecated and will be removed from pandas in a future version. Use pandas.concat instead.\n",
      "  distanceTable = distanceTable.append(new_row, ignore_index=True)\n",
      "/var/folders/jb/b4kcc8352qlcrywkmmp0fxtr0000gp/T/ipykernel_36965/3092192148.py:7: FutureWarning: The frame.append method is deprecated and will be removed from pandas in a future version. Use pandas.concat instead.\n",
      "  distanceTable = distanceTable.append(new_row, ignore_index=True)\n"
     ]
    },
    {
     "data": {
      "text/html": [
       "<div>\n",
       "<style scoped>\n",
       "    .dataframe tbody tr th:only-of-type {\n",
       "        vertical-align: middle;\n",
       "    }\n",
       "\n",
       "    .dataframe tbody tr th {\n",
       "        vertical-align: top;\n",
       "    }\n",
       "\n",
       "    .dataframe thead th {\n",
       "        text-align: right;\n",
       "    }\n",
       "</style>\n",
       "<table border=\"1\" class=\"dataframe\">\n",
       "  <thead>\n",
       "    <tr style=\"text-align: right;\">\n",
       "      <th></th>\n",
       "      <th>Movie Title</th>\n",
       "      <th>distance</th>\n",
       "      <th>index</th>\n",
       "    </tr>\n",
       "  </thead>\n",
       "  <tbody>\n",
       "    <tr>\n",
       "      <th>0</th>\n",
       "      <td>California Man</td>\n",
       "      <td>0.20332</td>\n",
       "      <td>0.0</td>\n",
       "    </tr>\n",
       "    <tr>\n",
       "      <th>1</th>\n",
       "      <td>He's not reall into dudes</td>\n",
       "      <td>0.187648</td>\n",
       "      <td>1.0</td>\n",
       "    </tr>\n",
       "    <tr>\n",
       "      <th>2</th>\n",
       "      <td>Beautiful Woman</td>\n",
       "      <td>0.191535</td>\n",
       "      <td>2.0</td>\n",
       "    </tr>\n",
       "    <tr>\n",
       "      <th>3</th>\n",
       "      <td>Kevin Longblade</td>\n",
       "      <td>1.141949</td>\n",
       "      <td>3.0</td>\n",
       "    </tr>\n",
       "    <tr>\n",
       "      <th>4</th>\n",
       "      <td>Robo Slayer 3000</td>\n",
       "      <td>1.162129</td>\n",
       "      <td>4.0</td>\n",
       "    </tr>\n",
       "    <tr>\n",
       "      <th>5</th>\n",
       "      <td>Amped</td>\n",
       "      <td>1.176575</td>\n",
       "      <td>5.0</td>\n",
       "    </tr>\n",
       "  </tbody>\n",
       "</table>\n",
       "</div>"
      ],
      "text/plain": [
       "                  Movie Title  distance  index\n",
       "0             California Man    0.20332    0.0\n",
       "1  He's not reall into dudes   0.187648    1.0\n",
       "2            Beautiful Woman   0.191535    2.0\n",
       "3            Kevin Longblade   1.141949    3.0\n",
       "4           Robo Slayer 3000   1.162129    4.0\n",
       "5                      Amped   1.176575    5.0"
      ]
     },
     "execution_count": 6,
     "metadata": {},
     "output_type": "execute_result"
    }
   ],
   "source": [
    "column_names = ['Movie Title', 'distance']\n",
    "distanceTable = pd.DataFrame(columns = column_names)\n",
    "\n",
    "for i in range(len(scaled_df)):\n",
    "    pointA = pd.Series([scaled_df['# of kicks'][i], scaled_df['# of kisses'][i]])\n",
    "    new_row = {'index': i, 'Movie Title' : scaled_df['Movie Title'][i], 'distance': sum((pointA - pointB)**2)**0.5}\n",
    "    distanceTable = distanceTable.append(new_row, ignore_index=True)\n",
    "    \n",
    "distanceTable"
   ]
  },
  {
   "cell_type": "markdown",
   "id": "e21147b0",
   "metadata": {},
   "source": [
    "***Sort distance table***"
   ]
  },
  {
   "cell_type": "code",
   "execution_count": 7,
   "id": "cb00af4e",
   "metadata": {},
   "outputs": [
    {
     "data": {
      "text/html": [
       "<div>\n",
       "<style scoped>\n",
       "    .dataframe tbody tr th:only-of-type {\n",
       "        vertical-align: middle;\n",
       "    }\n",
       "\n",
       "    .dataframe tbody tr th {\n",
       "        vertical-align: top;\n",
       "    }\n",
       "\n",
       "    .dataframe thead th {\n",
       "        text-align: right;\n",
       "    }\n",
       "</style>\n",
       "<table border=\"1\" class=\"dataframe\">\n",
       "  <thead>\n",
       "    <tr style=\"text-align: right;\">\n",
       "      <th></th>\n",
       "      <th>Movie Title</th>\n",
       "      <th>distance</th>\n",
       "      <th>index</th>\n",
       "    </tr>\n",
       "  </thead>\n",
       "  <tbody>\n",
       "    <tr>\n",
       "      <th>1</th>\n",
       "      <td>He's not reall into dudes</td>\n",
       "      <td>0.187648</td>\n",
       "      <td>1.0</td>\n",
       "    </tr>\n",
       "    <tr>\n",
       "      <th>2</th>\n",
       "      <td>Beautiful Woman</td>\n",
       "      <td>0.191535</td>\n",
       "      <td>2.0</td>\n",
       "    </tr>\n",
       "    <tr>\n",
       "      <th>0</th>\n",
       "      <td>California Man</td>\n",
       "      <td>0.20332</td>\n",
       "      <td>0.0</td>\n",
       "    </tr>\n",
       "    <tr>\n",
       "      <th>3</th>\n",
       "      <td>Kevin Longblade</td>\n",
       "      <td>1.141949</td>\n",
       "      <td>3.0</td>\n",
       "    </tr>\n",
       "    <tr>\n",
       "      <th>4</th>\n",
       "      <td>Robo Slayer 3000</td>\n",
       "      <td>1.162129</td>\n",
       "      <td>4.0</td>\n",
       "    </tr>\n",
       "    <tr>\n",
       "      <th>5</th>\n",
       "      <td>Amped</td>\n",
       "      <td>1.176575</td>\n",
       "      <td>5.0</td>\n",
       "    </tr>\n",
       "  </tbody>\n",
       "</table>\n",
       "</div>"
      ],
      "text/plain": [
       "                  Movie Title  distance  index\n",
       "1  He's not reall into dudes   0.187648    1.0\n",
       "2            Beautiful Woman   0.191535    2.0\n",
       "0             California Man    0.20332    0.0\n",
       "3            Kevin Longblade   1.141949    3.0\n",
       "4           Robo Slayer 3000   1.162129    4.0\n",
       "5                      Amped   1.176575    5.0"
      ]
     },
     "execution_count": 7,
     "metadata": {},
     "output_type": "execute_result"
    }
   ],
   "source": [
    "distanceTable = distanceTable.sort_values('distance')\n",
    "distanceTable"
   ]
  },
  {
   "cell_type": "markdown",
   "id": "d0615bd5",
   "metadata": {},
   "source": [
    "***Find k from sqrt(instances) and find k-nearest-indices***"
   ]
  },
  {
   "cell_type": "code",
   "execution_count": 8,
   "id": "2c2caac5",
   "metadata": {},
   "outputs": [
    {
     "data": {
      "text/plain": [
       "Int64Index([1, 2], dtype='int64')"
      ]
     },
     "execution_count": 8,
     "metadata": {},
     "output_type": "execute_result"
    }
   ],
   "source": [
    "k = int(np.sqrt(len(distanceTable)))\n",
    "k_nearest_indices = distanceTable.head(k).index\n",
    "k_nearest_indices"
   ]
  },
  {
   "cell_type": "markdown",
   "id": "9caa64ca",
   "metadata": {},
   "source": [
    "***Find the corresponding k-nearest-types-of-movie***"
   ]
  },
  {
   "cell_type": "code",
   "execution_count": 9,
   "id": "b0dc6c1b",
   "metadata": {},
   "outputs": [
    {
     "data": {
      "text/plain": [
       "1    Romance \n",
       "2    Romance \n",
       "Name: type of movie, dtype: object"
      ]
     },
     "execution_count": 9,
     "metadata": {},
     "output_type": "execute_result"
    }
   ],
   "source": [
    "decider = df.iloc[k_nearest_indices]\n",
    "decider['type of movie']"
   ]
  },
  {
   "cell_type": "markdown",
   "id": "954e0f48",
   "metadata": {},
   "source": [
    "***Find out if all k-nearest-movie types are similar and if so assign movie type to movie in question***"
   ]
  },
  {
   "cell_type": "code",
   "execution_count": 10,
   "id": "5296b058",
   "metadata": {},
   "outputs": [
    {
     "name": "stdout",
     "output_type": "stream",
     "text": [
      "Romance \n",
      "Romance \n",
      "Movie '?' is of type 1    Romance \n",
      "Name: type of movie, dtype: object\n"
     ]
    }
   ],
   "source": [
    "type_of_movie = decider['type of movie'].head(1)\n",
    "type_check = bool(True)\n",
    "for j in decider['type of movie']: \n",
    "    print(j)\n",
    "    type_check = (j == type_of_movie).all()\n",
    "        \n",
    "if (type_check):\n",
    "    ###again: doesn't select field correctly. why?\n",
    "    print(\"Movie '?' is of type\", type_of_movie)\n",
    "else:\n",
    "    print(\"Movie '?' is of type unknown.\")\n",
    "    "
   ]
  },
  {
   "cell_type": "code",
   "execution_count": null,
   "id": "3f2025e2",
   "metadata": {},
   "outputs": [],
   "source": []
  }
 ],
 "metadata": {
  "kernelspec": {
   "display_name": "Python 3 (ipykernel)",
   "language": "python",
   "name": "python3"
  },
  "language_info": {
   "codemirror_mode": {
    "name": "ipython",
    "version": 3
   },
   "file_extension": ".py",
   "mimetype": "text/x-python",
   "name": "python",
   "nbconvert_exporter": "python",
   "pygments_lexer": "ipython3",
   "version": "3.9.12"
  }
 },
 "nbformat": 4,
 "nbformat_minor": 5
}
